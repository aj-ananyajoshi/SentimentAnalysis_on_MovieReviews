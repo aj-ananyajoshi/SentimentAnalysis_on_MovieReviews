{
 "cells": [
  {
   "cell_type": "code",
   "execution_count": 1,
   "id": "59951e36-b277-415f-9188-f89bf7555a5f",
   "metadata": {},
   "outputs": [
    {
     "name": "stdout",
     "output_type": "stream",
     "text": [
      "[name: \"/device:CPU:0\"\n",
      "device_type: \"CPU\"\n",
      "memory_limit: 268435456\n",
      "locality {\n",
      "}\n",
      "incarnation: 18284644022041852989\n",
      "xla_global_id: -1\n",
      ", name: \"/device:GPU:0\"\n",
      "device_type: \"GPU\"\n",
      "memory_limit: 9377415168\n",
      "locality {\n",
      "  bus_id: 1\n",
      "  links {\n",
      "  }\n",
      "}\n",
      "incarnation: 18073772378302361023\n",
      "physical_device_desc: \"device: 0, name: NVIDIA GeForce RTX 2080 Ti, pci bus id: 0000:01:00.0, compute capability: 7.5\"\n",
      "xla_global_id: 416903419\n",
      "]\n",
      "Num GPUs Available:  1\n"
     ]
    }
   ],
   "source": [
    "import tensorflow as tf\n",
    "tf.config.list_physical_devices('GPU')\n",
    "from tensorflow.python.client import device_lib\n",
    "print(device_lib.list_local_devices())\n",
    "print(\"Num GPUs Available: \", len(tf.config.list_physical_devices('GPU')))"
   ]
  },
  {
   "cell_type": "markdown",
   "id": "1a8ab974-b7da-462d-9bee-976c6dc759ba",
   "metadata": {},
   "source": [
    "# Sentiment Analysis Using Simple & Complex (CNN + LSTM)\n",
    "\n",
    "**Architecture**\\\n",
    "\n",
    "Dataset -> Preprocessing -> Word Embedding -> Model Training -> Predictions"
   ]
  },
  {
   "cell_type": "code",
   "execution_count": 2,
   "id": "10464ee1-0411-4677-8ba7-a610feeb6d6d",
   "metadata": {},
   "outputs": [],
   "source": [
    "# Importing Libs\n",
    "import pandas as pd\n",
    "import numpy as np\n",
    "import seaborn as sns\n",
    "import matplotlib.pyplot as plt\n",
    "import re\n",
    "import nltk\n",
    "from nltk.corpus import stopwords\n",
    "from numpy import array\n",
    "from keras_preprocessing.sequence import pad_sequences\n",
    "from keras.preprocessing.text import one_hot, Tokenizer\n",
    "from keras.models import Sequential\n",
    "from keras.models import load_model\n",
    "from keras.layers.core import Activation, Dropout, Dense\n",
    "from keras.layers import Flatten, GlobalMaxPooling1D, Embedding, Conv1D, LSTM\n",
    "from sklearn.model_selection import train_test_split"
   ]
  },
  {
   "cell_type": "markdown",
   "id": "73db9391-4367-4510-950b-5459de2de4bc",
   "metadata": {
    "jp-MarkdownHeadingCollapsed": true
   },
   "source": [
    "## Exploring Data"
   ]
  },
  {
   "cell_type": "code",
   "execution_count": 3,
   "id": "8bf6d296-aecd-406f-aee4-eb40f2166e66",
   "metadata": {},
   "outputs": [],
   "source": [
    "# Loading Dataset\n",
    "movie_rev = pd.read_csv(\"a1_IMDB_Dataset.csv\")"
   ]
  },
  {
   "cell_type": "code",
   "execution_count": 4,
   "id": "e81a003e-caf2-4058-8297-2edc7d7e00b0",
   "metadata": {},
   "outputs": [
    {
     "data": {
      "text/plain": [
       "(50000, 2)"
      ]
     },
     "execution_count": 4,
     "metadata": {},
     "output_type": "execute_result"
    }
   ],
   "source": [
    "# Eploring Data\n",
    "movie_rev.shape"
   ]
  },
  {
   "cell_type": "code",
   "execution_count": 5,
   "id": "bd5988ad-5d65-419c-9079-9f9f0fa66ad9",
   "metadata": {},
   "outputs": [
    {
     "data": {
      "text/html": [
       "<div>\n",
       "<style scoped>\n",
       "    .dataframe tbody tr th:only-of-type {\n",
       "        vertical-align: middle;\n",
       "    }\n",
       "\n",
       "    .dataframe tbody tr th {\n",
       "        vertical-align: top;\n",
       "    }\n",
       "\n",
       "    .dataframe thead th {\n",
       "        text-align: right;\n",
       "    }\n",
       "</style>\n",
       "<table border=\"1\" class=\"dataframe\">\n",
       "  <thead>\n",
       "    <tr style=\"text-align: right;\">\n",
       "      <th></th>\n",
       "      <th>review</th>\n",
       "      <th>sentiment</th>\n",
       "    </tr>\n",
       "  </thead>\n",
       "  <tbody>\n",
       "    <tr>\n",
       "      <th>0</th>\n",
       "      <td>One of the other reviewers has mentioned that ...</td>\n",
       "      <td>positive</td>\n",
       "    </tr>\n",
       "    <tr>\n",
       "      <th>1</th>\n",
       "      <td>A wonderful little production. &lt;br /&gt;&lt;br /&gt;The...</td>\n",
       "      <td>positive</td>\n",
       "    </tr>\n",
       "    <tr>\n",
       "      <th>2</th>\n",
       "      <td>I thought this was a wonderful way to spend ti...</td>\n",
       "      <td>positive</td>\n",
       "    </tr>\n",
       "    <tr>\n",
       "      <th>3</th>\n",
       "      <td>Basically there's a family where a little boy ...</td>\n",
       "      <td>negative</td>\n",
       "    </tr>\n",
       "    <tr>\n",
       "      <th>4</th>\n",
       "      <td>Petter Mattei's \"Love in the Time of Money\" is...</td>\n",
       "      <td>positive</td>\n",
       "    </tr>\n",
       "    <tr>\n",
       "      <th>5</th>\n",
       "      <td>Probably my all-time favorite movie, a story o...</td>\n",
       "      <td>positive</td>\n",
       "    </tr>\n",
       "    <tr>\n",
       "      <th>6</th>\n",
       "      <td>I sure would like to see a resurrection of a u...</td>\n",
       "      <td>positive</td>\n",
       "    </tr>\n",
       "    <tr>\n",
       "      <th>7</th>\n",
       "      <td>This show was an amazing, fresh &amp; innovative i...</td>\n",
       "      <td>negative</td>\n",
       "    </tr>\n",
       "    <tr>\n",
       "      <th>8</th>\n",
       "      <td>Encouraged by the positive comments about this...</td>\n",
       "      <td>negative</td>\n",
       "    </tr>\n",
       "    <tr>\n",
       "      <th>9</th>\n",
       "      <td>If you like original gut wrenching laughter yo...</td>\n",
       "      <td>positive</td>\n",
       "    </tr>\n",
       "  </tbody>\n",
       "</table>\n",
       "</div>"
      ],
      "text/plain": [
       "                                              review sentiment\n",
       "0  One of the other reviewers has mentioned that ...  positive\n",
       "1  A wonderful little production. <br /><br />The...  positive\n",
       "2  I thought this was a wonderful way to spend ti...  positive\n",
       "3  Basically there's a family where a little boy ...  negative\n",
       "4  Petter Mattei's \"Love in the Time of Money\" is...  positive\n",
       "5  Probably my all-time favorite movie, a story o...  positive\n",
       "6  I sure would like to see a resurrection of a u...  positive\n",
       "7  This show was an amazing, fresh & innovative i...  negative\n",
       "8  Encouraged by the positive comments about this...  negative\n",
       "9  If you like original gut wrenching laughter yo...  positive"
      ]
     },
     "execution_count": 5,
     "metadata": {},
     "output_type": "execute_result"
    }
   ],
   "source": [
    "movie_rev.head(10)"
   ]
  },
  {
   "cell_type": "code",
   "execution_count": 6,
   "id": "91acf9d8-29b6-42e6-950a-8affc778fd79",
   "metadata": {},
   "outputs": [
    {
     "data": {
      "text/plain": [
       "False"
      ]
     },
     "execution_count": 6,
     "metadata": {},
     "output_type": "execute_result"
    }
   ],
   "source": [
    "movie_rev.isnull().values.any()"
   ]
  },
  {
   "cell_type": "code",
   "execution_count": 7,
   "id": "52aa71a8-f3bc-4d9c-9041-c64c0cd7ddc2",
   "metadata": {},
   "outputs": [
    {
     "data": {
      "text/plain": [
       "<Axes: xlabel='sentiment', ylabel='count'>"
      ]
     },
     "execution_count": 7,
     "metadata": {},
     "output_type": "execute_result"
    },
    {
     "data": {
      "image/png": "[encoded data removed]",
      "text/plain": [
       "<Figure size 640x480 with 1 Axes>"
      ]
     },
     "metadata": {},
     "output_type": "display_data"
    }
   ],
   "source": [
    "sns.countplot(x='sentiment', data=movie_rev)"
   ]
  },
  {
   "cell_type": "markdown",
   "id": "a46fdf3a-9691-43b3-abac-9ee2bd777c74",
   "metadata": {
    "jp-MarkdownHeadingCollapsed": true
   },
   "source": [
    "## Data Preprocessing"
   ]
  },
  {
   "cell_type": "code",
   "execution_count": 8,
   "id": "71ca4a64-689c-4d42-948d-ffc9cf6d1f4e",
   "metadata": {},
   "outputs": [
    {
     "data": {
      "text/plain": [
       "'I thought this was a wonderful way to spend time on a too hot summer weekend, sitting in the air conditioned theater and watching a light-hearted comedy. The plot is simplistic, but the dialogue is witty and the characters are likable (even the well bread suspected serial killer). While some may be disappointed when they realize this is not Match Point 2: Risk Addiction, I thought it was proof that Woody Allen is still fully in control of the style many of us have grown to love.<br /><br />This was the most I\\'d laughed at one of Woody\\'s comedies in years (dare I say a decade?). While I\\'ve never been impressed with Scarlet Johanson, in this she managed to tone down her \"sexy\" image and jumped right into a average, but spirited young woman.<br /><br />This may not be the crown jewel of his career, but it was wittier than \"Devil Wears Prada\" and more interesting than \"Superman\" a great comedy to go see with friends.'"
      ]
     },
     "execution_count": 8,
     "metadata": {},
     "output_type": "execute_result"
    }
   ],
   "source": [
    "movie_rev['review'][2]"
   ]
  },
  {
   "cell_type": "markdown",
   "id": "6e48c8aa-b256-48fc-8788-2a67ed119ac9",
   "metadata": {},
   "source": [
    "The reviews consists of puntuations, brackets, html tags and more so the data needs to be pre-processed for further methodology"
   ]
  },
  {
   "cell_type": "code",
   "execution_count": 9,
   "id": "da8d51d2-e4f1-431e-8970-00d6205d1d60",
   "metadata": {},
   "outputs": [],
   "source": [
    "tag_re = re.compile(r'<[^>]+>')\n",
    "def remove_tg(text):\n",
    "    '''\n",
    "    Removes tags and replaces anything that is present between < and > with empty spaces\n",
    "    '''\n",
    "    return tag_re.sub('', text)"
   ]
  },
  {
   "cell_type": "code",
   "execution_count": 10,
   "id": "50cfc45b-59ab-45ac-bde8-a513aeab0870",
   "metadata": {},
   "outputs": [
    {
     "name": "stderr",
     "output_type": "stream",
     "text": [
      "[nltk_data] Downloading package stopwords to\n",
      "[nltk_data]     C:\\Users\\joshi\\AppData\\Roaming\\nltk_data...\n",
      "[nltk_data]   Package stopwords is already up-to-date!\n"
     ]
    },
    {
     "data": {
      "text/plain": [
       "True"
      ]
     },
     "execution_count": 10,
     "metadata": {},
     "output_type": "execute_result"
    }
   ],
   "source": [
    "nltk.download('stopwords')"
   ]
  },
  {
   "cell_type": "code",
   "execution_count": 11,
   "id": "57fa0d74-ff74-4c1f-972e-9ddcf9d520c7",
   "metadata": {},
   "outputs": [],
   "source": [
    "def preprocess_txt(sen):\n",
    "    '''\n",
    "    cleans text data, leaves only those non-stop words that are of A-Z and a-z only in lower-case\n",
    "    '''\n",
    "    # changing all to lowercase\n",
    "    sentence = sen.lower()\n",
    "\n",
    "    # removing html tags\n",
    "    sentence = remove_tg(sentence)\n",
    "\n",
    "    # removing punctuaions & nums\n",
    "    sentence = re.sub('[^a-zA-Z]', ' ', sentence)\n",
    "\n",
    "    # removing single chars\n",
    "    sentence = re.sub(r\"\\s+[a-zA-Z]\\s+\", ' ', sentence)\n",
    "\n",
    "    # removing multi chars\n",
    "    sentence = re.sub(r'\\s+', ' ', sentence)\n",
    "\n",
    "    # remove stopwords\n",
    "    pattern = re.compile(r'\\b(' + r'|'.join(stopwords.words('english')) + r')\\b\\s*')\n",
    "    sentence = pattern.sub('', sentence)\n",
    "\n",
    "    return sentence"
   ]
  },
  {
   "cell_type": "code",
   "execution_count": 12,
   "id": "e25176a6-0d28-4a02-8367-7bbfa9d65660",
   "metadata": {},
   "outputs": [],
   "source": [
    "# calling preprocessing function on dataset\n",
    "x = []\n",
    "sentences = list(movie_rev['review'])\n",
    "for sen in sentences:\n",
    "    x.append(preprocess_txt(sen))"
   ]
  },
  {
   "cell_type": "code",
   "execution_count": 13,
   "id": "cc554af1-f2a1-43d0-bdf7-cccc9bec4e25",
   "metadata": {},
   "outputs": [
    {
     "data": {
      "text/plain": [
       "'thought wonderful way spend time hot summer weekend sitting air conditioned theater watching light hearted comedy plot simplistic dialogue witty characters likable even well bread suspected serial killer may disappointed realize match point risk addiction thought proof woody allen still fully control style many us grown love laughed one woody comedies years dare say decade never impressed scarlet johanson managed tone sexy image jumped right average spirited young woman may crown jewel career wittier devil wears prada interesting superman great comedy go see friends '"
      ]
     },
     "execution_count": 13,
     "metadata": {},
     "output_type": "execute_result"
    }
   ],
   "source": [
    "# Confirming cleaned up review\n",
    "x[2]"
   ]
  },
  {
   "cell_type": "code",
   "execution_count": 14,
   "id": "5a2af00b-1a8f-47c5-834c-6c8475fcec6b",
   "metadata": {},
   "outputs": [],
   "source": [
    "# converting sentiment-labels into 0's & 1's\n",
    "y = movie_rev['sentiment']\n",
    "y = np.array(list(map(lambda x:1 if x=='positive' else 0,y)))"
   ]
  },
  {
   "cell_type": "markdown",
   "id": "e91693f1-cc00-4728-b311-2f75386171cf",
   "metadata": {
    "jp-MarkdownHeadingCollapsed": true
   },
   "source": [
    "## Splitting data into training and testing data"
   ]
  },
  {
   "cell_type": "code",
   "execution_count": 15,
   "id": "976b621f-5bc2-4b80-9686-d76230b3e2fb",
   "metadata": {},
   "outputs": [],
   "source": [
    "# Train is for learning the model and test is for evaluation of model\n",
    "x_train, x_test, y_train, y_test = train_test_split(x, y, test_size=0.20, random_state=42)"
   ]
  },
  {
   "cell_type": "markdown",
   "id": "e79b8e49-bd30-43bd-8029-886527ad071b",
   "metadata": {
    "jp-MarkdownHeadingCollapsed": true
   },
   "source": [
    "## Preparation of Embedding Layer"
   ]
  },
  {
   "cell_type": "markdown",
   "id": "464289a4-e344-4555-ba28-3593d3de6bff",
   "metadata": {},
   "source": [
    "This is to convert the textual data into numerical data which can then be used in deep learning models as first-layer in keras"
   ]
  },
  {
   "cell_type": "code",
   "execution_count": 16,
   "id": "7d1ab472-ea66-420a-bf42-5700d8403014",
   "metadata": {},
   "outputs": [],
   "source": [
    "# embedding layer needs words to be in number form\n",
    "# making use of tokenizer function from keras.preprocessing.text lib\n",
    "# the fit_on_text trains the tokenizer\n",
    "# text_to_sequences converts the sentences to their respective numeric form\n",
    "\n",
    "word_tokenizer = Tokenizer()\n",
    "word_tokenizer.fit_on_texts(x_train)\n",
    "\n",
    "x_train = word_tokenizer.texts_to_sequences(x_train)\n",
    "x_test = word_tokenizer.texts_to_sequences(x_test)"
   ]
  },
  {
   "cell_type": "code",
   "execution_count": 17,
   "id": "8a4fc51a-07a1-4560-b2f4-230de13e61cf",
   "metadata": {},
   "outputs": [
    {
     "name": "stdout",
     "output_type": "stream",
     "text": [
      "92394\n"
     ]
    }
   ],
   "source": [
    "# addition of 1 to store the dimensions for words for thich there are no pretrained embeddings\n",
    "voc_len = len(word_tokenizer.word_index) + 1\n",
    "print(voc_len)"
   ]
  },
  {
   "cell_type": "code",
   "execution_count": 18,
   "id": "de42a0e0-42a9-40b3-b906-2fb4408c2496",
   "metadata": {},
   "outputs": [],
   "source": [
    "# Applying padding to all the reviews to fixed len of 100\n",
    "max_len = 100\n",
    "x_train = pad_sequences(x_train, padding='post', maxlen = max_len)\n",
    "x_test = pad_sequences(x_test, padding='post', maxlen = max_len)"
   ]
  },
  {
   "cell_type": "code",
   "execution_count": 19,
   "id": "616fc6b1-81a2-4284-80b3-ebabc9b782da",
   "metadata": {
    "scrolled": true
   },
   "outputs": [
    {
     "data": {
      "text/plain": [
       "<function TextIOWrapper.close()>"
      ]
     },
     "execution_count": 19,
     "metadata": {},
     "output_type": "execute_result"
    }
   ],
   "source": [
    "# Making use of GloVe words embedding and creating dict\n",
    "from numpy import asarray\n",
    "from numpy import zeros\n",
    "\n",
    "emb_dict = dict()\n",
    "glove_fl = open('a2_glove.6B.100d.txt', encoding='utf8')\n",
    "\n",
    "for line in glove_fl:\n",
    "    rec = line.split()\n",
    "    word = rec[0]\n",
    "    vec_dims = asarray(rec[1:], dtype='float32')\n",
    "    emb_dict[word] = vec_dims\n",
    "glove_fl.close"
   ]
  },
  {
   "cell_type": "code",
   "execution_count": 20,
   "id": "284f2916-f21b-40c9-bc32-9c97aeb16fb2",
   "metadata": {},
   "outputs": [],
   "source": [
    "# making embedding-mat with 100-colsL\n",
    "# comprising 100-dim glove word embeds for every word\n",
    "\n",
    "emb_mat = zeros((voc_len, 100))\n",
    "for word, index in word_tokenizer.word_index.items():\n",
    "    emb_vec = emb_dict.get(word)\n",
    "    if emb_vec is not None:\n",
    "        emb_mat[index] = emb_vec"
   ]
  },
  {
   "cell_type": "code",
   "execution_count": 21,
   "id": "bc336857-286a-445f-97fa-d0962a27eb0e",
   "metadata": {},
   "outputs": [
    {
     "data": {
      "text/plain": [
       "(92394, 100)"
      ]
     },
     "execution_count": 21,
     "metadata": {},
     "output_type": "execute_result"
    }
   ],
   "source": [
    "# shape of emb_mat\n",
    "emb_mat.shape"
   ]
  },
  {
   "cell_type": "markdown",
   "id": "9c72c679-b93d-44c6-89ee-5e8a8a28a66c",
   "metadata": {
    "jp-MarkdownHeadingCollapsed": true
   },
   "source": [
    "## Simple_Neural_Network"
   ]
  },
  {
   "cell_type": "code",
   "execution_count": 22,
   "id": "0118b0e1-3a03-41c5-a7b4-2850f19d2b78",
   "metadata": {},
   "outputs": [],
   "source": [
    "nn = Sequential()\n",
    "emb_layer = Embedding(voc_len, 100, weights=[emb_mat], input_length=max_len,trainable=False)\n",
    "nn.add(emb_layer)\n",
    "nn.add(Flatten())\n",
    "nn.add(Dense(1,activation='sigmoid'))"
   ]
  },
  {
   "cell_type": "code",
   "execution_count": 23,
   "id": "b8255315-79f1-4b74-bfd9-635069cec3df",
   "metadata": {},
   "outputs": [
    {
     "name": "stdout",
     "output_type": "stream",
     "text": [
      "Model: \"sequential\"\n",
      "_________________________________________________________________\n",
      " Layer (type)                Output Shape              Param #   \n",
      "=================================================================\n",
      " embedding (Embedding)       (None, 100, 100)          9239400   \n",
      "                                                                 \n",
      " flatten (Flatten)           (None, 10000)             0         \n",
      "                                                                 \n",
      " dense (Dense)               (None, 1)                 10001     \n",
      "                                                                 \n",
      "=================================================================\n",
      "Total params: 9,249,401\n",
      "Trainable params: 10,001\n",
      "Non-trainable params: 9,239,400\n",
      "_________________________________________________________________\n"
     ]
    }
   ],
   "source": [
    "# Compilation\n",
    "nn.compile(optimizer='adam', loss='binary_crossentropy', metrics=['acc'])\n",
    "nn.summary()"
   ]
  },
  {
   "cell_type": "code",
   "execution_count": 24,
   "id": "016617e1-3ab6-480e-b4cc-f236747bf15a",
   "metadata": {},
   "outputs": [
    {
     "name": "stdout",
     "output_type": "stream",
     "text": [
      "Epoch 1/10\n",
      "250/250 [==============================] - 1s 2ms/step - loss: 0.5618 - acc: 0.7133 - val_loss: 0.5058 - val_acc: 0.7629\n",
      "Epoch 2/10\n",
      "250/250 [==============================] - 0s 2ms/step - loss: 0.4489 - acc: 0.7951 - val_loss: 0.4984 - val_acc: 0.7655\n",
      "Epoch 3/10\n",
      "250/250 [==============================] - 0s 2ms/step - loss: 0.4142 - acc: 0.8171 - val_loss: 0.5026 - val_acc: 0.7638\n",
      "Epoch 4/10\n",
      "250/250 [==============================] - 0s 2ms/step - loss: 0.3898 - acc: 0.8293 - val_loss: 0.5266 - val_acc: 0.7567\n",
      "Epoch 5/10\n",
      "250/250 [==============================] - 0s 2ms/step - loss: 0.3764 - acc: 0.8368 - val_loss: 0.5209 - val_acc: 0.7600\n",
      "Epoch 6/10\n",
      "250/250 [==============================] - 0s 2ms/step - loss: 0.3629 - acc: 0.8430 - val_loss: 0.5339 - val_acc: 0.7585\n",
      "Epoch 7/10\n",
      "250/250 [==============================] - 0s 2ms/step - loss: 0.3540 - acc: 0.8450 - val_loss: 0.5553 - val_acc: 0.7498\n",
      "Epoch 8/10\n",
      "250/250 [==============================] - 0s 2ms/step - loss: 0.3462 - acc: 0.8519 - val_loss: 0.5532 - val_acc: 0.7558\n",
      "Epoch 9/10\n",
      "250/250 [==============================] - 0s 2ms/step - loss: 0.3422 - acc: 0.8531 - val_loss: 0.5637 - val_acc: 0.7514\n",
      "Epoch 10/10\n",
      "250/250 [==============================] - 0s 2ms/step - loss: 0.3339 - acc: 0.8570 - val_loss: 0.5734 - val_acc: 0.7469\n"
     ]
    }
   ],
   "source": [
    "# Training the model\n",
    "# batch of 128 should be good since 64 can lead to overfitting and anything more than 128 can lead to underfitting\n",
    "nn_model = nn.fit(x_train, y_train, batch_size=128,epochs=10,verbose=1,validation_split=0.2)"
   ]
  },
  {
   "cell_type": "code",
   "execution_count": 25,
   "id": "e1e03b69-7252-4974-af28-bd0934e691d4",
   "metadata": {},
   "outputs": [
    {
     "name": "stdout",
     "output_type": "stream",
     "text": [
      "313/313 [==============================] - 0s 1ms/step - loss: 0.6074 - acc: 0.7420\n",
      "Test_Score :  60.740941762924194\n",
      "Test_Accuracy :  74.19999837875366\n"
     ]
    }
   ],
   "source": [
    "# Performance of Model\n",
    "score = nn.evaluate(x_test, y_test, verbose=1)\n",
    "\n",
    "print(\"Test_Score : \", score[0]*100)\n",
    "print(\"Test_Accuracy : \", score[1]*100)       "
   ]
  },
  {
   "cell_type": "code",
   "execution_count": 26,
   "id": "1b303a90-be20-43fb-9f1d-95f3c5350001",
   "metadata": {},
   "outputs": [
    {
     "data": {
      "image/png": "[encoded data removed]",
      "text/plain": [
       "<Figure size 640x480 with 1 Axes>"
      ]
     },
     "metadata": {},
     "output_type": "display_data"
    },
    {
     "data": {
      "image/png": "[encoded data removed]",
      "text/plain": [
       "<Figure size 640x480 with 1 Axes>"
      ]
     },
     "metadata": {},
     "output_type": "display_data"
    }
   ],
   "source": [
    "# Performance graphical representation\n",
    "\n",
    "plt.plot(nn_model.history['acc'])\n",
    "plt.plot(nn_model.history['val_acc'])\n",
    "\n",
    "plt.title('model_acc')\n",
    "plt.ylabel('acc.')\n",
    "plt.xlabel('epochs')\n",
    "plt.legend(['train','test'], loc='upper left')\n",
    "plt.show()\n",
    "\n",
    "plt.plot(nn_model.history['loss'])\n",
    "plt.plot(nn_model.history['val_loss'])\n",
    "\n",
    "plt.title('model loss')\n",
    "plt.ylabel('loss')\n",
    "plt.xlabel('epoch')\n",
    "plt.legend(['train','test'], loc='upper left')\n",
    "plt.show()"
   ]
  },
  {
   "cell_type": "markdown",
   "id": "c16ef5dd-3d1a-41aa-839d-3d30c81ede1d",
   "metadata": {
    "jp-MarkdownHeadingCollapsed": true
   },
   "source": [
    "## CNN - Convolutional-Neural-Networks"
   ]
  },
  {
   "cell_type": "code",
   "execution_count": 27,
   "id": "fb43f4fd-6719-4857-91ae-cc6dbd03b8f4",
   "metadata": {},
   "outputs": [],
   "source": [
    "cnn = Sequential()\n",
    "emb_layer = Embedding(voc_len, 100, weights=[emb_mat], input_length = max_len, trainable=False)\n",
    "cnn.add(emb_layer)\n",
    "cnn.add(Conv1D(128,5,activation='relu'))\n",
    "cnn.add(GlobalMaxPooling1D())\n",
    "cnn.add(Dense(1,activation='sigmoid'))"
   ]
  },
  {
   "cell_type": "code",
   "execution_count": 28,
   "id": "78e9cce5-18db-4e58-bc4b-ea1ea41dc141",
   "metadata": {},
   "outputs": [
    {
     "name": "stdout",
     "output_type": "stream",
     "text": [
      "Model: \"sequential_1\"\n",
      "_________________________________________________________________\n",
      " Layer (type)                Output Shape              Param #   \n",
      "=================================================================\n",
      " embedding_1 (Embedding)     (None, 100, 100)          9239400   \n",
      "                                                                 \n",
      " conv1d (Conv1D)             (None, 96, 128)           64128     \n",
      "                                                                 \n",
      " global_max_pooling1d (Globa  (None, 128)              0         \n",
      " lMaxPooling1D)                                                  \n",
      "                                                                 \n",
      " dense_1 (Dense)             (None, 1)                 129       \n",
      "                                                                 \n",
      "=================================================================\n",
      "Total params: 9,303,657\n",
      "Trainable params: 64,257\n",
      "Non-trainable params: 9,239,400\n",
      "_________________________________________________________________\n"
     ]
    }
   ],
   "source": [
    "# Compiling the cnn-model\n",
    "cnn.compile(optimizer='adam', loss='binary_crossentropy', metrics=['acc'])\n",
    "cnn.summary()"
   ]
  },
  {
   "cell_type": "code",
   "execution_count": 29,
   "id": "cdf59f45-3661-4066-8586-5449aa0b3fa0",
   "metadata": {},
   "outputs": [
    {
     "name": "stdout",
     "output_type": "stream",
     "text": [
      "Epoch 1/10\n",
      "250/250 [==============================] - 3s 3ms/step - loss: 0.4779 - acc: 0.7688 - val_loss: 0.3762 - val_acc: 0.8364\n",
      "Epoch 2/10\n",
      "250/250 [==============================] - 1s 2ms/step - loss: 0.3409 - acc: 0.8551 - val_loss: 0.3453 - val_acc: 0.8505\n",
      "Epoch 3/10\n",
      "250/250 [==============================] - 1s 2ms/step - loss: 0.2856 - acc: 0.8856 - val_loss: 0.3334 - val_acc: 0.8534\n",
      "Epoch 4/10\n",
      "250/250 [==============================] - 1s 2ms/step - loss: 0.2436 - acc: 0.9085 - val_loss: 0.3324 - val_acc: 0.8530\n",
      "Epoch 5/10\n",
      "250/250 [==============================] - 1s 2ms/step - loss: 0.2021 - acc: 0.9320 - val_loss: 0.3275 - val_acc: 0.8568\n",
      "Epoch 6/10\n",
      "250/250 [==============================] - 1s 2ms/step - loss: 0.1672 - acc: 0.9506 - val_loss: 0.3328 - val_acc: 0.8558\n",
      "Epoch 7/10\n",
      "250/250 [==============================] - 1s 2ms/step - loss: 0.1343 - acc: 0.9674 - val_loss: 0.3373 - val_acc: 0.8559\n",
      "Epoch 8/10\n",
      "250/250 [==============================] - 1s 2ms/step - loss: 0.1080 - acc: 0.9794 - val_loss: 0.3526 - val_acc: 0.8534\n",
      "Epoch 9/10\n",
      "250/250 [==============================] - 1s 2ms/step - loss: 0.0855 - acc: 0.9870 - val_loss: 0.3548 - val_acc: 0.8535\n",
      "Epoch 10/10\n",
      "250/250 [==============================] - 1s 2ms/step - loss: 0.0664 - acc: 0.9939 - val_loss: 0.3769 - val_acc: 0.8518\n"
     ]
    }
   ],
   "source": [
    "# Training the cnn-model\n",
    "cnn_model = cnn.fit(x_train,y_train, batch_size=128, epochs=10,verbose=1,validation_split=0.2)"
   ]
  },
  {
   "cell_type": "code",
   "execution_count": 30,
   "id": "a30376e2-58ca-48de-868b-e4c6668be54e",
   "metadata": {},
   "outputs": [
    {
     "name": "stdout",
     "output_type": "stream",
     "text": [
      "313/313 [==============================] - 1s 1ms/step - loss: 0.3728 - acc: 0.8501\n",
      "test_score :  37.284451723098755\n",
      "test_acc :  85.00999808311462\n"
     ]
    }
   ],
   "source": [
    "# Making predictions on the test data\n",
    "score = cnn.evaluate(x_test, y_test, verbose=1)\n",
    "print('test_score : ', score[0]*100)\n",
    "print('test_acc : ', score[1]*100)"
   ]
  },
  {
   "cell_type": "code",
   "execution_count": 31,
   "id": "af82d745-8ed6-4696-add5-5654a0fdf1f4",
   "metadata": {},
   "outputs": [
    {
     "data": {
      "image/png": "[encoded data removed]",
      "text/plain": [
       "<Figure size 640x480 with 1 Axes>"
      ]
     },
     "metadata": {},
     "output_type": "display_data"
    },
    {
     "data": {
      "image/png": "[encoded data removed]",
      "text/plain": [
       "<Figure size 640x480 with 1 Axes>"
      ]
     },
     "metadata": {},
     "output_type": "display_data"
    }
   ],
   "source": [
    "# Making performance-charts\n",
    "\n",
    "plt.plot(cnn_model.history['acc'])\n",
    "plt.plot(cnn_model.history['val_acc'])\n",
    "\n",
    "plt.title('model accuracy')\n",
    "plt.ylabel('accuracy')\n",
    "plt.xlabel('epoch')\n",
    "plt.legend(['train','test'], loc = 'upper left')\n",
    "plt.show()\n",
    "\n",
    "plt.plot(cnn_model.history['loss'])\n",
    "plt.plot(cnn_model.history['val_loss'])\n",
    "\n",
    "plt.title('model loss')\n",
    "plt.ylabel('loss')\n",
    "plt.xlabel('epoch')\n",
    "plt.legend(['train','test'], loc = 'upper left')\n",
    "plt.show()"
   ]
  },
  {
   "cell_type": "markdown",
   "id": "04aeca7d-6439-4f98-9d21-5b5958a254c1",
   "metadata": {
    "jp-MarkdownHeadingCollapsed": true
   },
   "source": [
    "## LSTM (Recurrent-Neural-Networks)"
   ]
  },
  {
   "cell_type": "code",
   "execution_count": 32,
   "id": "be042887-1b7f-4c03-9fd1-dcc1577e74e4",
   "metadata": {},
   "outputs": [],
   "source": [
    "# Architecture\n",
    "lstm = Sequential()\n",
    "emb_layer = Embedding(voc_len,100,weights=[emb_mat],input_length=max_len,trainable=False)\n",
    "lstm.add(emb_layer)\n",
    "lstm.add(LSTM(128))\n",
    "lstm.add(Dense(1,activation='sigmoid'))"
   ]
  },
  {
   "cell_type": "code",
   "execution_count": 33,
   "id": "8490e318-e6d7-495f-b3c2-02cf4d813a2d",
   "metadata": {},
   "outputs": [
    {
     "name": "stdout",
     "output_type": "stream",
     "text": [
      "Model: \"sequential_2\"\n",
      "_________________________________________________________________\n",
      " Layer (type)                Output Shape              Param #   \n",
      "=================================================================\n",
      " embedding_2 (Embedding)     (None, 100, 100)          9239400   \n",
      "                                                                 \n",
      " lstm (LSTM)                 (None, 128)               117248    \n",
      "                                                                 \n",
      " dense_2 (Dense)             (None, 1)                 129       \n",
      "                                                                 \n",
      "=================================================================\n",
      "Total params: 9,356,777\n",
      "Trainable params: 117,377\n",
      "Non-trainable params: 9,239,400\n",
      "_________________________________________________________________\n"
     ]
    }
   ],
   "source": [
    "# Compiling the model\n",
    "lstm.compile(optimizer='adam',loss='binary_crossentropy',metrics=['acc'])\n",
    "lstm.summary()"
   ]
  },
  {
   "cell_type": "code",
   "execution_count": 34,
   "id": "4995ae63-c0a5-46db-94ea-e79ec101e6b6",
   "metadata": {},
   "outputs": [
    {
     "name": "stdout",
     "output_type": "stream",
     "text": [
      "Epoch 1/10\n",
      "250/250 [==============================] - 5s 13ms/step - loss: 0.5585 - acc: 0.7185 - val_loss: 0.4680 - val_acc: 0.7936\n",
      "Epoch 2/10\n",
      "250/250 [==============================] - 3s 12ms/step - loss: 0.4267 - acc: 0.8088 - val_loss: 0.4199 - val_acc: 0.8130\n",
      "Epoch 3/10\n",
      "250/250 [==============================] - 3s 12ms/step - loss: 0.3787 - acc: 0.8345 - val_loss: 0.3628 - val_acc: 0.8441\n",
      "Epoch 4/10\n",
      "250/250 [==============================] - 3s 14ms/step - loss: 0.3521 - acc: 0.8528 - val_loss: 0.3387 - val_acc: 0.8560\n",
      "Epoch 5/10\n",
      "250/250 [==============================] - 3s 12ms/step - loss: 0.3256 - acc: 0.8609 - val_loss: 0.3174 - val_acc: 0.8649\n",
      "Epoch 6/10\n",
      "250/250 [==============================] - 3s 14ms/step - loss: 0.3047 - acc: 0.8714 - val_loss: 0.3211 - val_acc: 0.8708\n",
      "Epoch 7/10\n",
      "250/250 [==============================] - 3s 13ms/step - loss: 0.2910 - acc: 0.8802 - val_loss: 0.3047 - val_acc: 0.8700\n",
      "Epoch 8/10\n",
      "250/250 [==============================] - 3s 13ms/step - loss: 0.2725 - acc: 0.8892 - val_loss: 0.3621 - val_acc: 0.8687\n",
      "Epoch 9/10\n",
      "250/250 [==============================] - 3s 14ms/step - loss: 0.2574 - acc: 0.8973 - val_loss: 0.3280 - val_acc: 0.8614\n",
      "Epoch 10/10\n",
      "250/250 [==============================] - 3s 13ms/step - loss: 0.2360 - acc: 0.9086 - val_loss: 0.3238 - val_acc: 0.8640\n"
     ]
    }
   ],
   "source": [
    "# Training the model\n",
    "lstm_model = lstm.fit(x_train,y_train,batch_size=128,epochs=10,verbose=1,validation_split=0.2)"
   ]
  },
  {
   "cell_type": "code",
   "execution_count": 35,
   "id": "64f7726e-00de-471e-8d96-af1489e026b3",
   "metadata": {},
   "outputs": [
    {
     "name": "stdout",
     "output_type": "stream",
     "text": [
      "313/313 [==============================] - 2s 6ms/step - loss: 0.3241 - acc: 0.8588\n"
     ]
    }
   ],
   "source": [
    "# Making predictions\n",
    "score = lstm.evaluate(x_test,y_test,verbose=1)"
   ]
  },
  {
   "cell_type": "code",
   "execution_count": 36,
   "id": "053b64ff-a091-4688-bcb2-c9fc3fc59084",
   "metadata": {},
   "outputs": [
    {
     "name": "stdout",
     "output_type": "stream",
     "text": [
      "test_score :  32.40513503551483\n",
      "test_acc :  85.87999939918518\n"
     ]
    }
   ],
   "source": [
    "# Performance of model\n",
    "print('test_score : ',score[0]*100)\n",
    "print('test_acc : ',score[1]*100)"
   ]
  },
  {
   "cell_type": "code",
   "execution_count": 37,
   "id": "e01fbf6f-52db-40f5-b9ba-9fd1b8a04aa9",
   "metadata": {},
   "outputs": [
    {
     "data": {
      "image/png": "[encoded data removed]",
      "text/plain": [
       "<Figure size 640x480 with 1 Axes>"
      ]
     },
     "metadata": {},
     "output_type": "display_data"
    },
    {
     "data": {
      "image/png": "[encoded data removed]",
      "text/plain": [
       "<Figure size 640x480 with 1 Axes>"
      ]
     },
     "metadata": {},
     "output_type": "display_data"
    }
   ],
   "source": [
    "# Performance graphical representation\n",
    "\n",
    "plt.plot(lstm_model.history['acc'])\n",
    "plt.plot(lstm_model.history['val_acc'])\n",
    "\n",
    "plt.title('model accuracy')\n",
    "plt.ylabel('accuracy')\n",
    "plt.xlabel('epoch')\n",
    "plt.legend(['train','test'], loc='upper left')\n",
    "plt.show()\n",
    "\n",
    "plt.plot(lstm_model.history['loss'])\n",
    "plt.plot(lstm_model.history['val_loss'])\n",
    "\n",
    "plt.title('model loss')\n",
    "plt.ylabel('loss')\n",
    "plt.xlabel('epoch')\n",
    "plt.legend(['train','test'], loc='upper left')\n",
    "plt.show()"
   ]
  },
  {
   "cell_type": "code",
   "execution_count": 38,
   "id": "4199632a-9eac-4fa7-a93a-502c3a2ef4da",
   "metadata": {},
   "outputs": [],
   "source": [
    "# Saving lstm model for later usage\n",
    "lstm.save(f'lstm_model_{round(score[1],3)*100}.h5',save_format='h5')"
   ]
  },
  {
   "cell_type": "markdown",
   "id": "bfd85dcd-6748-43da-8583-62cf70e8dc14",
   "metadata": {
    "jp-MarkdownHeadingCollapsed": true
   },
   "source": [
    "## Live-Predictions-IMDB-Data"
   ]
  },
  {
   "cell_type": "code",
   "execution_count": 39,
   "id": "9f57e661-5fea-41a8-a96e-63fbd1e042ab",
   "metadata": {},
   "outputs": [],
   "source": [
    "# To load previous trained model file\n",
    "\n",
    "# model_path ='lstm_model_86.1.h5'\n",
    "# pretrained_lstm = load_model(model_path)\n",
    "\n",
    "# pretrained_lstm.summary()"
   ]
  },
  {
   "cell_type": "code",
   "execution_count": 40,
   "id": "e20557f6-268a-4ae3-b80a-cf7057266f5d",
   "metadata": {},
   "outputs": [
    {
     "data": {
      "text/html": [
       "<div>\n",
       "<style scoped>\n",
       "    .dataframe tbody tr th:only-of-type {\n",
       "        vertical-align: middle;\n",
       "    }\n",
       "\n",
       "    .dataframe tbody tr th {\n",
       "        vertical-align: top;\n",
       "    }\n",
       "\n",
       "    .dataframe thead th {\n",
       "        text-align: right;\n",
       "    }\n",
       "</style>\n",
       "<table border=\"1\" class=\"dataframe\">\n",
       "  <thead>\n",
       "    <tr style=\"text-align: right;\">\n",
       "      <th></th>\n",
       "      <th>Unnamed: 0</th>\n",
       "      <th>Movie</th>\n",
       "      <th>Review Text</th>\n",
       "      <th>IMDb Rating</th>\n",
       "    </tr>\n",
       "  </thead>\n",
       "  <tbody>\n",
       "    <tr>\n",
       "      <th>0</th>\n",
       "      <td>0</td>\n",
       "      <td>Ex Machina</td>\n",
       "      <td>Intelligent Movie.\\nThis movie is obviously al...</td>\n",
       "      <td>9</td>\n",
       "    </tr>\n",
       "    <tr>\n",
       "      <th>1</th>\n",
       "      <td>1</td>\n",
       "      <td>Ex Machina</td>\n",
       "      <td>Extraordinary and thought-provoking.\\n'Ex mach...</td>\n",
       "      <td>10</td>\n",
       "    </tr>\n",
       "    <tr>\n",
       "      <th>2</th>\n",
       "      <td>2</td>\n",
       "      <td>Ex Machina</td>\n",
       "      <td>Poor story, only reasonable otherwise.\\nIf I h...</td>\n",
       "      <td>3</td>\n",
       "    </tr>\n",
       "    <tr>\n",
       "      <th>3</th>\n",
       "      <td>3</td>\n",
       "      <td>Ex Machina</td>\n",
       "      <td>Had Great Potential.\\nThis movie is one of the...</td>\n",
       "      <td>1</td>\n",
       "    </tr>\n",
       "    <tr>\n",
       "      <th>4</th>\n",
       "      <td>4</td>\n",
       "      <td>Eternals</td>\n",
       "      <td>Amazing visuals and philosophical concepts!\\n\\...</td>\n",
       "      <td>10</td>\n",
       "    </tr>\n",
       "  </tbody>\n",
       "</table>\n",
       "</div>"
      ],
      "text/plain": [
       "   Unnamed: 0       Movie                                        Review Text  \\\n",
       "0           0  Ex Machina  Intelligent Movie.\\nThis movie is obviously al...   \n",
       "1           1  Ex Machina  Extraordinary and thought-provoking.\\n'Ex mach...   \n",
       "2           2  Ex Machina  Poor story, only reasonable otherwise.\\nIf I h...   \n",
       "3           3  Ex Machina  Had Great Potential.\\nThis movie is one of the...   \n",
       "4           4    Eternals  Amazing visuals and philosophical concepts!\\n\\...   \n",
       "\n",
       "   IMDb Rating  \n",
       "0            9  \n",
       "1           10  \n",
       "2            3  \n",
       "3            1  \n",
       "4           10  "
      ]
     },
     "execution_count": 40,
     "metadata": {},
     "output_type": "execute_result"
    }
   ],
   "source": [
    "sample_revs = pd.read_csv('a3_IMDb_Unseen_Reviews.csv')\n",
    "sample_revs.head(5)"
   ]
  },
  {
   "cell_type": "code",
   "execution_count": 41,
   "id": "3e8c9c12-108f-4358-ad69-bfc91ba60a38",
   "metadata": {},
   "outputs": [],
   "source": [
    "# Preprocessing the review text with the pre-defined function (preprocess_txt)\n",
    "new_revs = sample_revs['Review Text']\n",
    "new_processed = []\n",
    "for rev in new_revs:\n",
    "    rev = preprocess_txt(rev)\n",
    "    new_processed.append(rev)"
   ]
  },
  {
   "cell_type": "code",
   "execution_count": 42,
   "id": "8fa574c7-6294-4b6a-8f9e-58dbca2c803d",
   "metadata": {},
   "outputs": [],
   "source": [
    "# Tokenized isntance for our pre-trained tokenizer\n",
    "new_token = word_tokenizer.texts_to_sequences(new_processed)\n",
    "new_padded = pad_sequences(new_token, padding='post', maxlen=max_len)"
   ]
  },
  {
   "cell_type": "code",
   "execution_count": 43,
   "id": "91a65110-e0db-428f-87a4-c01177571647",
   "metadata": {},
   "outputs": [
    {
     "name": "stdout",
     "output_type": "stream",
     "text": [
      "1/1 [==============================] - 0s 281ms/step\n"
     ]
    },
    {
     "data": {
      "text/plain": [
       "array([[0.97806704],\n",
       "       [0.9991177 ],\n",
       "       [0.15234978],\n",
       "       [0.29556116],\n",
       "       [0.97201   ],\n",
       "       [0.00809975]], dtype=float32)"
      ]
     },
     "execution_count": 43,
     "metadata": {},
     "output_type": "execute_result"
    }
   ],
   "source": [
    "# tokenized instance is passed below to the lstm for making predictions\n",
    "new_sentiments = lstm.predict(new_padded)\n",
    "new_sentiments"
   ]
  },
  {
   "cell_type": "code",
   "execution_count": 44,
   "id": "4768dd9d-3c60-4c74-a597-6437d25b4994",
   "metadata": {},
   "outputs": [
    {
     "data": {
      "text/html": [
       "<div>\n",
       "<style scoped>\n",
       "    .dataframe tbody tr th:only-of-type {\n",
       "        vertical-align: middle;\n",
       "    }\n",
       "\n",
       "    .dataframe tbody tr th {\n",
       "        vertical-align: top;\n",
       "    }\n",
       "\n",
       "    .dataframe thead th {\n",
       "        text-align: right;\n",
       "    }\n",
       "</style>\n",
       "<table border=\"1\" class=\"dataframe\">\n",
       "  <thead>\n",
       "    <tr style=\"text-align: right;\">\n",
       "      <th></th>\n",
       "      <th>Movie</th>\n",
       "      <th>Review Text</th>\n",
       "      <th>IMDb Rating</th>\n",
       "      <th>predicted_sentiments</th>\n",
       "    </tr>\n",
       "  </thead>\n",
       "  <tbody>\n",
       "    <tr>\n",
       "      <th>0</th>\n",
       "      <td>Ex Machina</td>\n",
       "      <td>Intelligent Movie.\\nThis movie is obviously al...</td>\n",
       "      <td>9</td>\n",
       "      <td>9.8</td>\n",
       "    </tr>\n",
       "    <tr>\n",
       "      <th>1</th>\n",
       "      <td>Ex Machina</td>\n",
       "      <td>Extraordinary and thought-provoking.\\n'Ex mach...</td>\n",
       "      <td>10</td>\n",
       "      <td>10.0</td>\n",
       "    </tr>\n",
       "    <tr>\n",
       "      <th>2</th>\n",
       "      <td>Ex Machina</td>\n",
       "      <td>Poor story, only reasonable otherwise.\\nIf I h...</td>\n",
       "      <td>3</td>\n",
       "      <td>1.5</td>\n",
       "    </tr>\n",
       "    <tr>\n",
       "      <th>3</th>\n",
       "      <td>Ex Machina</td>\n",
       "      <td>Had Great Potential.\\nThis movie is one of the...</td>\n",
       "      <td>1</td>\n",
       "      <td>3.0</td>\n",
       "    </tr>\n",
       "    <tr>\n",
       "      <th>4</th>\n",
       "      <td>Eternals</td>\n",
       "      <td>Amazing visuals and philosophical concepts!\\n\\...</td>\n",
       "      <td>10</td>\n",
       "      <td>9.7</td>\n",
       "    </tr>\n",
       "  </tbody>\n",
       "</table>\n",
       "</div>"
      ],
      "text/plain": [
       "        Movie                                        Review Text  IMDb Rating  \\\n",
       "0  Ex Machina  Intelligent Movie.\\nThis movie is obviously al...            9   \n",
       "1  Ex Machina  Extraordinary and thought-provoking.\\n'Ex mach...           10   \n",
       "2  Ex Machina  Poor story, only reasonable otherwise.\\nIf I h...            3   \n",
       "3  Ex Machina  Had Great Potential.\\nThis movie is one of the...            1   \n",
       "4    Eternals  Amazing visuals and philosophical concepts!\\n\\...           10   \n",
       "\n",
       "   predicted_sentiments  \n",
       "0                   9.8  \n",
       "1                  10.0  \n",
       "2                   1.5  \n",
       "3                   3.0  \n",
       "4                   9.7  "
      ]
     },
     "execution_count": 44,
     "metadata": {},
     "output_type": "execute_result"
    }
   ],
   "source": [
    "# Writing/Saving the model predictions\n",
    "sample_revs['predicted_sentiments'] = np.round(new_sentiments*10,1)\n",
    "\n",
    "df_pred_sentiments = pd.DataFrame(sample_revs['predicted_sentiments'], columns = ['predicted_sentiments'])\n",
    "df_movies = pd.DataFrame(sample_revs['Movie'], columns = ['Movie'])\n",
    "df_rev_txt = pd.DataFrame(sample_revs['Review Text'], columns = ['Review Text'])\n",
    "df_imdb_rat = pd.DataFrame(sample_revs['IMDb Rating'], columns = ['IMDb Rating'])\n",
    "\n",
    "dfx = pd.concat([df_movies, df_rev_txt, df_imdb_rat, df_pred_sentiments], axis=1)\n",
    "dfx.to_csv('./imdb_new_predictions.csv', sep=',', encoding = 'UTF-8')\n",
    "\n",
    "dfx.head(5)"
   ]
  },
  {
   "cell_type": "code",
   "execution_count": null,
   "id": "1d3436b8-619c-4633-88e2-bbfba32b53ba",
   "metadata": {},
   "outputs": [],
   "source": []
  }
 ],
 "metadata": {
  "kernelspec": {
   "display_name": "Python 3 (ipykernel)",
   "language": "python",
   "name": "python3"
  },
  "language_info": {
   "codemirror_mode": {
    "name": "ipython",
    "version": 3
   },
   "file_extension": ".py",
   "mimetype": "text/x-python",
   "name": "python",
   "nbconvert_exporter": "python",
   "pygments_lexer": "ipython3",
   "version": "3.10.13"
  }
 },
 "nbformat": 4,
 "nbformat_minor": 5
}
